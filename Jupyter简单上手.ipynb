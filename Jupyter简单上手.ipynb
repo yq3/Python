{
 "cells": [
  {
   "cell_type": "markdown",
   "metadata": {},
   "source": [
    "# Jupyter Notebook  \n",
    "以下所有操作都基于Windows10系统，其他系统未做尝试"
   ]
  },
  {
   "cell_type": "markdown",
   "metadata": {},
   "source": [
    "## 安装与环境变量配置\n",
    "1. 在cmd命令行使用pip安装：pip install --user jupyter  \n",
    "2. 查找jupyter-notebook.exe文件所在的安装路径，例如：C:\\Users\\admin\\AppData\\Roaming\\Python\\Python37\\Scripts  \n",
    "3. 将其添加至系统变量中，操作如下：我的电脑-右击属性-高级系统设置-环境变量-系统变量-选中Path-编辑-将路径新建进去保存\n",
    "4. 在cmd命令行输入jupyter notebook以启动程序，此时默认浏览器中会弹出Jupyter的界面，地址为localhost:8888，此时cmd的当前操作路径即为Jupyter的工作路径，注意运行期间cmd命令行不要关闭"
   ]
  },
  {
   "cell_type": "markdown",
   "metadata": {},
   "source": [
    "## 更改工作路径\n",
    "1. 确定一个存放config文件的文件夹，在cmd命令行中进入该文件夹的路径  \n",
    "2. 在cmd命令行中输入：jupyter notebook --generate-config，此时在上述文件夹中会生成名为.jupyter的文件夹，里面会有名为jupyter_notebook_config.py的文件  \n",
    "3. 打开上述.py文件，找到以下内容：#c.NotebookApp.notebook_dir = ''，大约在第261行，将前面的#去掉，并在引号之间添加自己希望的工作路径，然后保存  \n",
    "4. 重新启动Jupyter Notebook"
   ]
  },
  {
   "cell_type": "markdown",
   "metadata": {},
   "source": [
    "## 常用快捷键\n",
    "当前cell为蓝色时，表示此时为命令模式，按Enter切换为编辑模式  \n",
    "当前cell为绿色时，表示此时为编辑模式，按ESC切换为命令模式  \n",
    "### 编辑模式快捷键\n",
    "Tap：   代码补全  \n",
    "Ctrl+Z： 撤销  \n",
    "### 命令模式快捷键\n",
    "\n",
    "按键|命令  \n",
    ":-:|:-:\n",
    "A|在上方新建cell             \n",
    "B|在下方新建cell               \n",
    "双击D|删除当前cell              \n",
    "Z|撤销删除              \n",
    "Ctrl+Enter|运行当前cell                        \n",
    "Shift+Enter|运行当前cell并跳转至（新建）下一个cell       \n",
    "Y|将当前cell转换为code形式            \n",
    "M|将当前cell转换为markdown格式        \n",
    "Shift+上下键|可复选多个cell     \n",
    "\n",
    "表格文字无法居中，哇，难受  \n",
    "查了好多人也有同样问题，但没有解决方案，哇，难受"
   ]
  }
 ],
 "metadata": {
  "kernelspec": {
   "display_name": "Python 3",
   "language": "python",
   "name": "python3"
  },
  "language_info": {
   "codemirror_mode": {
    "name": "ipython",
    "version": 3
   },
   "file_extension": ".py",
   "mimetype": "text/x-python",
   "name": "python",
   "nbconvert_exporter": "python",
   "pygments_lexer": "ipython3",
   "version": "3.7.0"
  }
 },
 "nbformat": 4,
 "nbformat_minor": 2
}
